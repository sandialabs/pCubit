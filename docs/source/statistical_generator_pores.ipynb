{
 "cells": [
  {
   "cell_type": "markdown",
   "metadata": {},
   "source": [
    "# Statistical generation of pores"
   ]
  },
  {
   "cell_type": "markdown",
   "metadata": {},
   "source": [
    "Plot the pore statistics data:"
   ]
  },
  {
   "cell_type": "code",
   "execution_count": 1,
   "metadata": {},
   "outputs": [
    {
     "data": {
      "image/png": "[encoded data removed]",
      "text/plain": [
       "<Figure size 640x480 with 1 Axes>"
      ]
     },
     "metadata": {},
     "output_type": "display_data"
    }
   ],
   "source": [
    "import numpy as np\n",
    "from glob import glob\n",
    "import matplotlib.pyplot as plt\n",
    "pore_diameter_data = []\n",
    "for prefix in [\"a06\", \"build-a-notch\", \"build-a-tension\"]:\n",
    "    for file in glob(f'data/sfc3/{prefix}*.csv'):\n",
    "        pore_diameter_data = np.hstack((\n",
    "            pore_diameter_data,\n",
    "            np.genfromtxt(file, delimiter=',')[:, 3])\n",
    "        )\n",
    "fig = plt.figure()\n",
    "vals, bins, _ = plt.hist(pore_diameter_data, bins=50, density=True)\n",
    "_ = plt.xlabel('Pore diameter (microns)')\n",
    "_ = plt.ylabel('Probability density')\n",
    "_ = plt.xlim([0.,100.])\n",
    "fig.set_dpi(100)\n",
    "plt.show()"
   ]
  },
  {
   "cell_type": "markdown",
   "metadata": {},
   "source": [
    "Create a cube to place the pores in, and add it to an element block:"
   ]
  },
  {
   "cell_type": "code",
   "execution_count": 2,
   "metadata": {},
   "outputs": [
    {
     "name": "stdout",
     "output_type": "stream",
     "text": [
      "ERROR: Intersection operation failed.\n",
      "ERROR: ACIS API error number 21073 \n",
      "ACIS API message = face containment cannot be determined \n",
      "ERROR: Intersection operation failed.\n",
      "ERROR: ACIS API error number 21073 \n",
      "ACIS API message = face containment cannot be determined \n",
      "Mean volume fraction is 0.0009016978134206428\n",
      "which is within 0.1886459356269743%\n",
      "of the target value 0.0009\n"
     ]
    }
   ],
   "source": [
    "from pcubit import cubit_init, cubit_cmd\n",
    "cubit_init()\n",
    "brick_length_in_meters = 3.6e-4\n",
    "cubit_cmd(f'brick x {brick_length_in_meters}')\n",
    "cubit_cmd('block 1 add volume 1')"
   ]
  },
  {
   "cell_type": "markdown",
   "metadata": {},
   "source": [
    "Establish the desired pore statistics:"
   ]
  },
  {
   "cell_type": "code",
   "execution_count": 3,
   "metadata": {},
   "outputs": [],
   "source": [
    "radiis = 1e-6/2*np.tile(bins[:-1] + np.diff(bins)/2, (3, 1)).T\n",
    "probabilities = vals*np.diff(bins)\n",
    "from pcubit import Statistics\n",
    "statistics = Statistics(\n",
    "    location='uniform random',\n",
    "    radii=(radiis, probabilities),\n",
    "    angles='uniform random'\n",
    ")"
   ]
  },
  {
   "cell_type": "markdown",
   "metadata": {},
   "source": [
    "Generate pores using a generalized Poisson point process based on the desired statistics:"
   ]
  },
  {
   "cell_type": "code",
   "execution_count": 4,
   "metadata": {},
   "outputs": [],
   "source": [
    "from pcubit import Generator\n",
    "generator = Generator(\n",
    "    pore_statistics=statistics,\n",
    "    target_pore_volume_fraction=9e-4,\n",
    "    buffer=brick_length_in_meters/20\n",
    ")\n",
    "pores = generator()"
   ]
  },
  {
   "cell_type": "markdown",
   "metadata": {},
   "source": [
    "Place all the pores within the geometry, merge anything unmerged, and choose the `ctet10` element:"
   ]
  },
  {
   "cell_type": "code",
   "execution_count": 5,
   "metadata": {},
   "outputs": [],
   "source": [
    "pores.place()\n",
    "cubit_cmd('merge all')\n",
    "cubit_cmd('volume all scheme tetmesh')\n",
    "cubit_cmd('block all element type tetra10')"
   ]
  },
  {
   "cell_type": "markdown",
   "metadata": {},
   "source": [
    "Make a function to get the surface ids and surface areas for the cube sides, the rest being that for the pores:"
   ]
  },
  {
   "cell_type": "code",
   "execution_count": 6,
   "metadata": {},
   "outputs": [],
   "source": [
    "import cubit\n",
    "def get_surface_info():\n",
    "    surface_ids = list(cubit.get_entities('surface'))\n",
    "    surface_areas = []\n",
    "    for surface_id in surface_ids:\n",
    "        surface_areas.append(cubit.get_surface_area(surface_id))\n",
    "    cube_surface_ids = []\n",
    "    cube_surface_areas = []\n",
    "    for dummy_index in range(6):\n",
    "        max_area = max(surface_areas)\n",
    "        max_area_id = surface_ids[np.argmax(surface_areas)]\n",
    "        cube_surface_areas.append(max_area)\n",
    "        cube_surface_ids.append(max_area_id)\n",
    "        surface_ids.remove(max_area_id)\n",
    "        surface_areas.remove(max_area)\n",
    "    pores_surface_ids = surface_ids\n",
    "    pores_surface_areas = surface_areas\n",
    "    return cube_surface_ids, cube_surface_areas, pores_surface_ids, pores_surface_areas"
   ]
  },
  {
   "cell_type": "markdown",
   "metadata": {},
   "source": [
    "Make a function to set the desired mesh sizes, which calls the previous function, then call it and mesh everything:"
   ]
  },
  {
   "cell_type": "code",
   "execution_count": 7,
   "metadata": {},
   "outputs": [],
   "source": [
    "def set_desired_mesh_sizes(vol_size, rel_cube_surf_size, rel_pore_surf_size):\n",
    "    cube_surface_ids, cube_surface_areas, \\\n",
    "        pores_surface_ids, pores_surface_areas = get_surface_info()\n",
    "    cubit_cmd(f'volume all size {vol_size}')\n",
    "    for surface_id in cube_surface_ids:\n",
    "        cubit_cmd(f'surface {surface_id} '\n",
    "                  f'size {rel_cube_surf_size*brick_length_in_meters}')\n",
    "    for index, surface_id in enumerate(pores_surface_ids):\n",
    "        cubit_cmd(f'surface {surface_id} '\n",
    "                  f'size {rel_pore_surf_size*np.sqrt(pores_surface_areas[index])}')\n",
    "set_desired_mesh_sizes(1e8, 1e-1, 3e-1)\n",
    "cubit_cmd('mesh volume all')"
   ]
  },
  {
   "cell_type": "markdown",
   "metadata": {},
   "source": [
    "Make a function to assign sidesets to the cube surfaces, andthen call it:"
   ]
  },
  {
   "cell_type": "code",
   "execution_count": 8,
   "metadata": {},
   "outputs": [],
   "source": [
    "def sideset_fun(sideset_id, minimum, maximum):\n",
    "    cubit.cmd(f'sideset {sideset_id} surface all patch '\n",
    "              f'minimum {minimum[0]} {minimum[1]} {minimum[2]} '\n",
    "              f'maximum {maximum[0]} {maximum[1]} {maximum[2]} ')\n",
    "def make_sidesets(rel_tol=1e-4):\n",
    "    h = brick_length_in_meters/2\n",
    "    tol = rel_tol*h\n",
    "    sideset_fun(1, [-h - tol, -h, -h], [-h + tol, +h, +h])\n",
    "    sideset_fun(2, [+h - tol, -h, -h], [+h + tol, +h, +h])\n",
    "    sideset_fun(3, [-h, -h - tol, -h], [+h, -h + tol, +h])\n",
    "    sideset_fun(4, [-h, +h - tol, -h], [+h, +h + tol, +h])\n",
    "    sideset_fun(5, [-h, -h, -h - tol], [+h, +h, -h + tol])\n",
    "    sideset_fun(6, [-h, -h, +h - tol], [+h, +h, +h + tol])\n",
    "make_sidesets()"
   ]
  },
  {
   "cell_type": "markdown",
   "metadata": {},
   "source": [
    "The same statistical generator can be used repeatedly. Here, the statistics are validated:"
   ]
  },
  {
   "cell_type": "code",
   "execution_count": 9,
   "metadata": {},
   "outputs": [
    {
     "data": {
      "image/png": "[encoded data removed]",
      "text/plain": [
       "<Figure size 640x480 with 1 Axes>"
      ]
     },
     "metadata": {},
     "output_type": "display_data"
    }
   ],
   "source": [
    "radiis = []\n",
    "volume_fractions = []\n",
    "for mesh_i in range(1000):\n",
    "    cubit_cmd('reset')\n",
    "    cubit_cmd(f'brick x {brick_length_in_meters}')\n",
    "    cubit_cmd('block 1 add volume 1')\n",
    "    pores = generator()\n",
    "    pores.place()\n",
    "    volume = cubit.get_volume_volume(cubit.get_entities('volume')[-1])\n",
    "    volume_fractions.append(1 - volume/brick_length_in_meters**3)\n",
    "    for pore in pores():\n",
    "        radiis.append(pore.radii[0])\n",
    "mean_volume_fraction = np.mean(volume_fractions)\n",
    "rel_err = np.abs(100*(1 - mean_volume_fraction/generator.target_pore_volume_fraction))\n",
    "print('Mean volume fraction is', mean_volume_fraction)\n",
    "print('which is within', str(rel_err) + '%')\n",
    "print('of the target value', generator.target_pore_volume_fraction)\n",
    "fig = plt.figure()\n",
    "_, bins, _ = plt.hist(pore_diameter_data, bins=50, density=True, label='Data')\n",
    "_ = plt.hist(2e6*np.array(radiis), bins=bins, density=True, alpha=0.4, label='Generator')\n",
    "_ = plt.xlabel('Pore diameter (microns)')\n",
    "_ = plt.ylabel('Probability density')\n",
    "_ = plt.xlim([0.,100.])\n",
    "_ = plt.legend()\n",
    "fig.set_dpi(100)\n",
    "plt.show()"
   ]
  },
  {
   "cell_type": "markdown",
   "metadata": {},
   "source": [
    "The pore volume fraction disribution can also be plotted:"
   ]
  },
  {
   "cell_type": "code",
   "execution_count": 10,
   "metadata": {},
   "outputs": [
    {
     "data": {
      "image/png": "[encoded data removed]",
      "text/plain": [
       "<Figure size 640x480 with 1 Axes>"
      ]
     },
     "metadata": {},
     "output_type": "display_data"
    }
   ],
   "source": [
    "fig = plt.figure()\n",
    "_ = plt.hist(1e2*np.array(volume_fractions), bins=50, density=True)\n",
    "_ = plt.xlabel('Pore volume fraction (%)')\n",
    "_ = plt.ylabel('Probability density')\n",
    "fig.set_dpi(100)\n",
    "plt.show()"
   ]
  },
  {
   "cell_type": "markdown",
   "metadata": {},
   "source": [
    "Finally, construct a number of meshes and export them to a local folder:"
   ]
  },
  {
   "cell_type": "code",
   "execution_count": 11,
   "metadata": {},
   "outputs": [],
   "source": [
    "import os\n",
    "if not os.path.exists('./meshes/'):\n",
    "    os.makedirs('./meshes/')\n",
    "for mesh_i in range(0):\n",
    "    cubit_cmd('reset')\n",
    "    cubit_cmd(f'brick x {brick_length_in_meters}')\n",
    "    cubit_cmd('block 1 add volume 1')\n",
    "    generator().place()\n",
    "    cubit_cmd('merge all')\n",
    "    cubit_cmd('volume all scheme tetmesh')\n",
    "    cubit_cmd('block all element type tetra10')\n",
    "    set_desired_mesh_sizes(1e8, 1e-1, 3e-1)\n",
    "    cubit_cmd('mesh volume all')\n",
    "    make_sidesets()\n",
    "    cubit_cmd(f'export mesh \"./meshes/mesh_{mesh_i}.g\" overwrite ')"
   ]
  }
 ],
 "metadata": {
  "kernelspec": {
   "display_name": "Python 3 (ipykernel)",
   "language": "python",
   "name": "python3"
  },
  "language_info": {
   "codemirror_mode": {
    "name": "ipython",
    "version": 3
   },
   "file_extension": ".py",
   "mimetype": "text/x-python",
   "name": "python",
   "nbconvert_exporter": "python",
   "pygments_lexer": "ipython3",
   "version": "3.12.3"
  },
  "vscode": {
   "interpreter": {
    "hash": "29648422c0d902cf9c24b20050e753f73190aa38c818f5e77c552519555ba69b"
   }
  }
 },
 "nbformat": 4,
 "nbformat_minor": 4
}
